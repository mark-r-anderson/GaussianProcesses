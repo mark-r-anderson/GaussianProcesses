{
 "cells": [
  {
   "cell_type": "code",
   "execution_count": 1,
   "metadata": {
    "collapsed": true
   },
   "outputs": [],
   "source": [
    "import numpy as np\n",
    "import matplotlib as mpl\n",
    "import matplotlib.pyplot as plt\n",
    "\n",
    "from GPs.Kernel import Kernel, SqExp, RQ, ExpSine, WhiteNoise\n",
    "from GPs.GP import GPR\n",
    "\n",
    "%matplotlib inline"
   ]
  },
  {
   "cell_type": "markdown",
   "metadata": {},
   "source": [
    "# Initialize"
   ]
  },
  {
   "cell_type": "markdown",
   "metadata": {},
   "source": [
    "## Define the Training Data Set\n",
    "Define the training dataset for the independent and dependent variables"
   ]
  },
  {
   "cell_type": "code",
   "execution_count": 2,
   "metadata": {},
   "outputs": [],
   "source": [
    "#rng = np.random.RandomState(0)\n",
    "x = np.random.uniform(-5, 5, 20)\n",
    "y = x*np.sin(x)\n",
    "y += np.random.normal(0,0.5,y.size)"
   ]
  },
  {
   "cell_type": "markdown",
   "metadata": {},
   "source": [
    "## Define the Test Set\n",
    "Define the training dataset for the independent variables. In this case it is a \"continuous\" curve"
   ]
  },
  {
   "cell_type": "code",
   "execution_count": 3,
   "metadata": {
    "collapsed": true
   },
   "outputs": [],
   "source": [
    "x_star = np.linspace(-5,5,500)"
   ]
  },
  {
   "cell_type": "markdown",
   "metadata": {
    "collapsed": true
   },
   "source": [
    "## Train the Model\n",
    "\n",
    "Instantiate the kernels, instantiate the GPR with the kernel, and train the model."
   ]
  },
  {
   "cell_type": "code",
   "execution_count": 4,
   "metadata": {
    "collapsed": true
   },
   "outputs": [],
   "source": [
    "#Define the basic kernels\n",
    "k1 = SqExp(0.45,2)\n",
    "k2 = RQ(0.5,2,3)\n",
    "k3 = ExpSine(0.1,2,30)\n",
    "k4 = WhiteNoise(0.01)\n",
    "\n",
    "#Define the combined kernel\n",
    "k1 = k1+k4"
   ]
  },
  {
   "cell_type": "code",
   "execution_count": 5,
   "metadata": {
    "collapsed": true
   },
   "outputs": [],
   "source": [
    "#Instantiate the GP predictor object with the desired kernel\n",
    "gp = GPR(k1)\n",
    "\n",
    "#Train the model\n",
    "gp.train(x,y)"
   ]
  },
  {
   "cell_type": "markdown",
   "metadata": {},
   "source": [
    "# Regression\n",
    "\n",
    "Perform the regression based on the set of training data. The best estimate of the prediction is given by the mean of the distribution from which the posterior samples are drawn."
   ]
  },
  {
   "cell_type": "markdown",
   "metadata": {},
   "source": [
    "## Predict (Initial Hyperparameters)\n",
    "\n",
    "Perform regression using the initial user-specified hyperparameters."
   ]
  },
  {
   "cell_type": "code",
   "execution_count": 6,
   "metadata": {
    "collapsed": true
   },
   "outputs": [],
   "source": [
    "#Predict a new set of test data given the independent variable observations\n",
    "y_mean1,y_var1 = gp.predict(x_star,False)\n",
    "\n",
    "#Convert the variance to the standard deviation\n",
    "y_err1 = np.sqrt(y_var1)"
   ]
  },
  {
   "cell_type": "code",
   "execution_count": 7,
   "metadata": {},
   "outputs": [
    {
     "data": {
      "text/plain": [
       "<matplotlib.collections.PolyCollection at 0x7fdd3025f5f8>"
      ]
     },
     "execution_count": 7,
     "metadata": {},
     "output_type": "execute_result"
    },
    {
     "data": {
      "image/png": "[encoded data removed]",
      "text/plain": [
       "<matplotlib.figure.Figure at 0x7fdd337c9ac8>"
      ]
     },
     "metadata": {},
     "output_type": "display_data"
    }
   ],
   "source": [
    "plt.scatter(x,y,s=30)\n",
    "plt.plot(x_star,x_star*np.sin(x_star),'r:')\n",
    "plt.plot(x_star,y_mean1,'k-')\n",
    "plt.fill_between(x_star,y_mean1+y_err1,y_mean1-y_err1,alpha=0.5)"
   ]
  },
  {
   "cell_type": "markdown",
   "metadata": {},
   "source": [
    "# Optimize Hyperparameters\n",
    "\n",
    "Optimize over the hyperparameters."
   ]
  },
  {
   "cell_type": "code",
   "execution_count": 8,
   "metadata": {},
   "outputs": [
    {
     "data": {
      "text/plain": [
       "     fun: 15.276000272891892\n",
       "     jac: array([ 0.00300968, -0.00076127, -0.00189233])\n",
       " message: 'Optimization terminated successfully.'\n",
       "    nfev: 129\n",
       "     nit: 23\n",
       "    njev: 23\n",
       "  status: 0\n",
       " success: True\n",
       "       x: array([ 1.5512489 ,  3.77811412,  0.2076434 ])"
      ]
     },
     "execution_count": 8,
     "metadata": {},
     "output_type": "execute_result"
    }
   ],
   "source": [
    "gp.optimize('SLSQP')"
   ]
  },
  {
   "cell_type": "markdown",
   "metadata": {},
   "source": [
    "## Predict (Optimized Hyperparameters)\n",
    "\n",
    "Perform the regression from the hyperparameters that optimize the log marginal likelihood. Note the improvement in the fit in comparison to the actual function (red dotted line)."
   ]
  },
  {
   "cell_type": "code",
   "execution_count": 9,
   "metadata": {
    "collapsed": true
   },
   "outputs": [],
   "source": [
    "#Predict a new set of test data given the independent variable observations\n",
    "y_mean2,y_var2 = gp.predict(x_star,False)\n",
    "\n",
    "#Convert the variance to the standard deviation\n",
    "y_err2 = np.sqrt(y_var2)"
   ]
  },
  {
   "cell_type": "code",
   "execution_count": 10,
   "metadata": {},
   "outputs": [
    {
     "data": {
      "text/plain": [
       "<matplotlib.collections.PolyCollection at 0x7fdd301bcb00>"
      ]
     },
     "execution_count": 10,
     "metadata": {},
     "output_type": "execute_result"
    },
    {
     "data": {
      "image/png": "[encoded data removed]",
      "text/plain": [
       "<matplotlib.figure.Figure at 0x7fdd30223f98>"
      ]
     },
     "metadata": {},
     "output_type": "display_data"
    }
   ],
   "source": [
    "plt.scatter(x,y,s=30)\n",
    "plt.plot(x_star,x_star*np.sin(x_star),'r:')\n",
    "plt.plot(x_star,y_mean2,'k-')\n",
    "plt.fill_between(x_star,y_mean2+y_err2,y_mean2-y_err2,alpha=0.5)"
   ]
  }
 ],
 "metadata": {
  "anaconda-cloud": {},
  "kernelspec": {
   "display_name": "Python 3",
   "language": "python",
   "name": "python3"
  },
  "language_info": {
   "codemirror_mode": {
    "name": "ipython",
    "version": 3
   },
   "file_extension": ".py",
   "mimetype": "text/x-python",
   "name": "python",
   "nbconvert_exporter": "python",
   "pygments_lexer": "ipython3",
   "version": "3.6.1"
  }
 },
 "nbformat": 4,
 "nbformat_minor": 2
}
